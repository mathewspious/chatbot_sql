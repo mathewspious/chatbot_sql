{
 "cells": [
  {
   "cell_type": "code",
   "execution_count": 1,
   "metadata": {},
   "outputs": [],
   "source": [
    "import os"
   ]
  },
  {
   "cell_type": "markdown",
   "metadata": {},
   "source": [
    "Reading API Keys"
   ]
  },
  {
   "cell_type": "code",
   "execution_count": 2,
   "metadata": {},
   "outputs": [],
   "source": [
    "#Reading OpenAI Key\n",
    "OPENAI_API_KEY=input(\"Enter OpenAI API Key\")\n",
    "#Reading Langchain API Key\n",
    "LANGCHAIN_API_KEY=input(\"Enter Langchain API Key\")"
   ]
  },
  {
   "cell_type": "code",
   "execution_count": 3,
   "metadata": {},
   "outputs": [],
   "source": [
    "#Enabiling Langchain Tracing\n",
    "LANGCHAIN_TRACING_V2= \"true\"\n",
    "#OpenAI Model\n",
    "OPENAI_MODEL=\"gpt-4o-mini\""
   ]
  },
  {
   "cell_type": "code",
   "execution_count": null,
   "metadata": {},
   "outputs": [],
   "source": [
    "# installing langchain_openai package\n",
    "! pip install langchain_openai"
   ]
  },
  {
   "cell_type": "code",
   "execution_count": 4,
   "metadata": {},
   "outputs": [
    {
     "data": {
      "text/plain": [
       "ChatOpenAI(client=<openai.resources.chat.completions.Completions object at 0x11c490d70>, async_client=<openai.resources.chat.completions.AsyncCompletions object at 0x11c492210>, root_client=<openai.OpenAI object at 0x107b81ac0>, root_async_client=<openai.AsyncOpenAI object at 0x11c490da0>, model_name='gpt-4o-mini', temperature=0.5, openai_api_key=SecretStr('**********'), openai_proxy='')"
      ]
     },
     "execution_count": 4,
     "metadata": {},
     "output_type": "execute_result"
    }
   ],
   "source": [
    "# initializing llm\n",
    "from langchain_openai import ChatOpenAI\n",
    "llm = ChatOpenAI(model=OPENAI_MODEL,openai_api_key=OPENAI_API_KEY,temperature=0.5)\n",
    "llm"
   ]
  },
  {
   "cell_type": "code",
   "execution_count": null,
   "metadata": {},
   "outputs": [],
   "source": [
    "# Installing Python package for SQLDatabase\n",
    "! pip install langchain-community==0.2.9\n",
    "! pip install sqlalchemy==2.0.28"
   ]
  },
  {
   "cell_type": "code",
   "execution_count": 5,
   "metadata": {},
   "outputs": [
    {
     "data": {
      "text/plain": [
       "<langchain_community.utilities.sql_database.SQLDatabase at 0x11d222930>"
      ]
     },
     "execution_count": 5,
     "metadata": {},
     "output_type": "execute_result"
    }
   ],
   "source": [
    "#initializing Database object\n",
    "from langchain_community.utilities.sql_database import SQLDatabase\n",
    "db = SQLDatabase.from_uri(\"sqlite:///baggage_tracking.db\")\n",
    "db"
   ]
  },
  {
   "cell_type": "code",
   "execution_count": 6,
   "metadata": {},
   "outputs": [
    {
     "data": {
      "text/plain": [
       "'SQLQuery: SELECT COUNT(\"passenger_id\") AS \"total_passengers\" FROM \"passenger_details\";'"
      ]
     },
     "execution_count": 6,
     "metadata": {},
     "output_type": "execute_result"
    }
   ],
   "source": [
    "#creating Chain\n",
    "from langchain.chains import create_sql_query_chain\n",
    "generate_query = create_sql_query_chain(llm, db)\n",
    "#invoking generate query chain to generate the SQL query\n",
    "query = generate_query.invoke({\"question\":\"How many passengers are there?\",\"dialect\":\"sqllite\",\"table_info\":db.get_table_info()})\n",
    "query"
   ]
  },
  {
   "cell_type": "code",
   "execution_count": 8,
   "metadata": {},
   "outputs": [],
   "source": [
    "from langchain_core.output_parsers import BaseGenerationOutputParser\n",
    "from typing import List\n",
    "from langchain_core.exceptions import OutputParserException\n",
    "from langchain_core.outputs import  Generation\n",
    "class SQlExtractParser(BaseGenerationOutputParser[str]):\n",
    "    \"\"\"\n",
    "    A parser for SQL output.\n",
    "    \"\"\"\n",
    "\n",
    "    def parse_result(self, result: List[Generation], *, partial: bool = False) -> str:\n",
    "        \"\"\"\n",
    "        Parse the SQL query input and return the extracted SQL query.\n",
    "\n",
    "        Args:\n",
    "            sql_query_input (str): The input SQL query string.\n",
    "            partial (bool, optional): Whether the input is a partial query. Defaults to False.\n",
    "\n",
    "        Returns:\n",
    "            str: The extracted SQL query.\n",
    "        \"\"\"\n",
    "        if not result:\n",
    "            raise OutputParserException(\"Input SQL query is empty\")\n",
    "        \n",
    "        print(f\"Incoming query {result[0]}\")\n",
    "\n",
    "        if 'SQLQuery:' in result[0].text:\n",
    "            sql_query = result[0].text.split('SQLQuery:', 1)[1].strip()\n",
    "            print(f\"Extracted SQL query: {sql_query}\")\n",
    "        else:\n",
    "            sql_query = result[0].text\n",
    "\n",
    "        return sql_query"
   ]
  },
  {
   "cell_type": "code",
   "execution_count": 7,
   "metadata": {},
   "outputs": [],
   "source": [
    "from langchain_core.prompts import PromptTemplate\n",
    "from langchain_core.output_parsers import StrOutputParser\n",
    "def rephrase(user_query:str,query:str, query_result:str):\n",
    "    answer_prompt = PromptTemplate.from_template(\n",
    "     \"\"\"Given the following user question, corresponding SQL query, and SQL result, answer the user question.\n",
    "\n",
    "    Question: {question}\n",
    "    SQL Query: {query}\n",
    "    SQL Result: {result}\n",
    "    Answer: \"\"\"\n",
    "    )\n",
    "    rephrase_answer = answer_prompt | llm | StrOutputParser()\n",
    "    response=rephrase_answer.invoke({\"question\":user_query,\"query\":query,\"result\":query_result})\n",
    "    print(f\"Rephrased Response : %s\", response)\n",
    "    return response"
   ]
  },
  {
   "cell_type": "code",
   "execution_count": 11,
   "metadata": {},
   "outputs": [],
   "source": [
    "ANSWER_PROMPTS = PromptTemplate.from_template(\n",
    "     \"\"\"Given the following user question, corresponding SQL query, and SQL result, answer the user question.\n",
    "     Combine the the Question and SQL Result to generate a meaningful answer to the user.\n",
    "     The answer should be in the format of a sentence.\n",
    "     The answer should be a direct response to the user question.\n",
    "     Respond to the question as an experienced airline ground staff\n",
    "\n",
    " Question: {question}\n",
    " SQL Query: {query}\n",
    " SQL Result: {result}\n",
    " Answer: \"\"\"\n",
    " )"
   ]
  },
  {
   "cell_type": "markdown",
   "metadata": {},
   "source": [
    "Chain No 1 :- query_chain. The query chain will run the query generator and send the output to SQlExtractParser() to extract the sql\n"
   ]
  },
  {
   "cell_type": "code",
   "execution_count": 9,
   "metadata": {},
   "outputs": [],
   "source": [
    "generate_query = create_sql_query_chain(llm, db)\n",
    "query_chain = generate_query | SQlExtractParser()"
   ]
  },
  {
   "cell_type": "markdown",
   "metadata": {},
   "source": [
    "Chain No 2 :- execute_query. Executes the generated query on the DB using QuerySQLDataBaseTool(db=db)"
   ]
  },
  {
   "cell_type": "code",
   "execution_count": 10,
   "metadata": {},
   "outputs": [],
   "source": [
    "from langchain_community.tools.sql_database.tool import QuerySQLDataBaseTool\n",
    "execute_query = QuerySQLDataBaseTool(db=db)"
   ]
  },
  {
   "cell_type": "markdown",
   "metadata": {},
   "source": [
    "Chain No 3 :- answer_chain, Uses answer_prompt | llm | StrOutputParser() to generate an NLP for the DB query output"
   ]
  },
  {
   "cell_type": "code",
   "execution_count": 12,
   "metadata": {},
   "outputs": [],
   "source": [
    "answer_chain = ANSWER_PROMPTS | llm | StrOutputParser()"
   ]
  },
  {
   "cell_type": "markdown",
   "metadata": {},
   "source": [
    "Chaining everything together - Langchain provides us the option for chaining multiple chains together. We will create a final chain which will run all out three chain one after the othet"
   ]
  },
  {
   "cell_type": "code",
   "execution_count": 13,
   "metadata": {},
   "outputs": [],
   "source": [
    "from langchain_core.runnables import RunnablePassthrough\n",
    "from operator import itemgetter\n",
    "final_chain = (RunnablePassthrough.assign(query = query_chain).assign(result=itemgetter(\"query\") | execute_query)) | answer_chain"
   ]
  },
  {
   "cell_type": "markdown",
   "metadata": {},
   "source": [
    "Invoking the chain with user question and other parameters"
   ]
  },
  {
   "cell_type": "code",
   "execution_count": 14,
   "metadata": {},
   "outputs": [
    {
     "name": "stdout",
     "output_type": "stream",
     "text": [
      "Incoming query text='SQLQuery: SELECT COUNT(DISTINCT \"passenger_id\") AS \"total_passengers\" FROM \"passenger_details\";'\n",
      "Extracted SQL query: SELECT COUNT(DISTINCT \"passenger_id\") AS \"total_passengers\" FROM \"passenger_details\";\n"
     ]
    }
   ],
   "source": [
    "answer=final_chain.invoke({\"question\":\"How many passengers are there?\",\"dialect\":\"sqllite\",\"table_info\":db.get_table_info()})"
   ]
  },
  {
   "cell_type": "code",
   "execution_count": 15,
   "metadata": {},
   "outputs": [
    {
     "data": {
      "text/plain": [
       "'There are a total of 20 passengers.'"
      ]
     },
     "execution_count": 15,
     "metadata": {},
     "output_type": "execute_result"
    }
   ],
   "source": [
    "answer"
   ]
  }
 ],
 "metadata": {
  "kernelspec": {
   "display_name": "venv",
   "language": "python",
   "name": "python3"
  },
  "language_info": {
   "codemirror_mode": {
    "name": "ipython",
    "version": 3
   },
   "file_extension": ".py",
   "mimetype": "text/x-python",
   "name": "python",
   "nbconvert_exporter": "python",
   "pygments_lexer": "ipython3",
   "version": "3.12.3"
  }
 },
 "nbformat": 4,
 "nbformat_minor": 2
}
