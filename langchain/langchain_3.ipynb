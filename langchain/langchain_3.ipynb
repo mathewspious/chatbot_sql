{
 "cells": [
  {
   "cell_type": "code",
   "execution_count": 15,
   "metadata": {},
   "outputs": [],
   "source": [
    "import os"
   ]
  },
  {
   "cell_type": "markdown",
   "metadata": {},
   "source": [
    "Reading API Keys"
   ]
  },
  {
   "cell_type": "code",
   "execution_count": 16,
   "metadata": {},
   "outputs": [],
   "source": [
    "#Reading OpenAI Key\n",
    "OPENAI_API_KEY=input(\"Enter OpenAI API Key\")\n",
    "#Reading Langchain API Key\n",
    "LANGCHAIN_API_KEY=input(\"Enter Langchain API Key\")"
   ]
  },
  {
   "cell_type": "code",
   "execution_count": 51,
   "metadata": {},
   "outputs": [],
   "source": [
    "#Enabiling Langchain Tracing\n",
    "LANGCHAIN_TRACING_V2= \"true\"\n",
    "#OpenAI Model\n",
    "OPENAI_MODEL=\"gpt-4o-mini\"\n",
    "LANGCHAIN_TRACING_V2=\"true\"\n"
   ]
  },
  {
   "cell_type": "code",
   "execution_count": null,
   "metadata": {},
   "outputs": [],
   "source": [
    "# installing langchain_openai package\n",
    "! pip install langchain_openai"
   ]
  },
  {
   "cell_type": "code",
   "execution_count": 52,
   "metadata": {},
   "outputs": [
    {
     "data": {
      "text/plain": [
       "ChatOpenAI(client=<openai.resources.chat.completions.Completions object at 0x1272998e0>, async_client=<openai.resources.chat.completions.AsyncCompletions object at 0x12729a3c0>, root_client=<openai.OpenAI object at 0x12728eed0>, root_async_client=<openai.AsyncOpenAI object at 0x1272997f0>, model_name='gpt-4o-mini', temperature=0.5, openai_api_key=SecretStr('**********'), openai_proxy='')"
      ]
     },
     "execution_count": 52,
     "metadata": {},
     "output_type": "execute_result"
    }
   ],
   "source": [
    "# initializing llm\n",
    "from langchain_openai import ChatOpenAI\n",
    "llm = ChatOpenAI(model=OPENAI_MODEL,openai_api_key=OPENAI_API_KEY,temperature=0.5)\n",
    "llm"
   ]
  },
  {
   "cell_type": "code",
   "execution_count": null,
   "metadata": {},
   "outputs": [],
   "source": [
    "# Installing Python package for SQLDatabase\n",
    "! pip install langchain-community==0.2.9\n",
    "! pip install sqlalchemy==2.0.28"
   ]
  },
  {
   "cell_type": "code",
   "execution_count": 53,
   "metadata": {},
   "outputs": [
    {
     "data": {
      "text/plain": [
       "<langchain_community.utilities.sql_database.SQLDatabase at 0x127219220>"
      ]
     },
     "execution_count": 53,
     "metadata": {},
     "output_type": "execute_result"
    }
   ],
   "source": [
    "#initializing Database object\n",
    "from langchain_community.utilities.sql_database import SQLDatabase\n",
    "db = SQLDatabase.from_uri(\"sqlite:///baggage_tracking.db\")\n",
    "db"
   ]
  },
  {
   "cell_type": "code",
   "execution_count": 54,
   "metadata": {},
   "outputs": [],
   "source": [
    "from langchain_core.output_parsers import BaseGenerationOutputParser\n",
    "from typing import List\n",
    "from langchain_core.exceptions import OutputParserException\n",
    "from langchain_core.outputs import  Generation\n",
    "class SQlExtractParser(BaseGenerationOutputParser[str]):\n",
    "    \"\"\"\n",
    "    A parser for SQL output.\n",
    "    \"\"\"\n",
    "\n",
    "    def parse_result(self, result: List[Generation], *, partial: bool = False) -> str:\n",
    "        \"\"\"\n",
    "        Parse the SQL query input and return the extracted SQL query.\n",
    "\n",
    "        Args:\n",
    "            sql_query_input (str): The input SQL query string.\n",
    "            partial (bool, optional): Whether the input is a partial query. Defaults to False.\n",
    "\n",
    "        Returns:\n",
    "            str: The extracted SQL query.\n",
    "        \"\"\"\n",
    "        if not result:\n",
    "            raise OutputParserException(\"Input SQL query is empty\")\n",
    "        \n",
    "        print(f\"Incoming query {result[0]}\")\n",
    "\n",
    "        if 'SQLQuery:' in result[0].text:\n",
    "            sql_query = result[0].text.split('SQLQuery:', 1)[1].strip()\n",
    "            print(f\"Extracted SQL query: {sql_query}\")\n",
    "        else:\n",
    "            sql_query = result[0].text\n",
    "\n",
    "        return sql_query"
   ]
  },
  {
   "cell_type": "code",
   "execution_count": 55,
   "metadata": {},
   "outputs": [],
   "source": [
    "sql_examples = [\n",
    "    {\n",
    "        \"input\": \"Show bag tag numbers for the PNR number AAA100\",\n",
    "        \"query\": \"select bag_tag_number from baggage_details where pnr = 'AAA100';\"\n",
    "    },\n",
    "    {\n",
    "        \"input\": \"Find the baggage details of the flight originating from JFK and destination is SFO\",\n",
    "        \"query\": \"select * from baggage_details where origin ='JFK' and destination ='SFO';\"\n",
    "    },\n",
    "    {\n",
    "        \"input\": \"Find scanning details of bag tag number 001234567890\",\n",
    "        \"query\": \"SELECT * from baggage_scanning where bag_tag_number = '001234567890';\"\n",
    "    },\n",
    "    {\n",
    "        \"input\": \"Find the passengers in flight BC101\",\n",
    "        \"query\": \"SELECT * from passenger_details where passenger_flight_number = 'BC101';\"\n",
    "    },\n",
    "    {\n",
    "        \"input\": \"Find the passenger details for the bag tag number 001234567890\",\n",
    "        \"query\": \"SELECT * from passenger_details where bag_tag_number = '001234567890'\"\n",
    "    },\n",
    "    {\n",
    "        \"input\": \"Find rush bags in flight AB100\",\n",
    "        \"query\": \"SELECT * from baggage_details where rush_bag='Yes' and flight_number = 'AB100'\"\n",
    "    }\n",
    "]"
   ]
  },
  {
   "cell_type": "code",
   "execution_count": 56,
   "metadata": {},
   "outputs": [],
   "source": [
    "from langchain_core.prompts import ChatPromptTemplate\n",
    "sql_example_prompt = ChatPromptTemplate.from_messages(\n",
    "    [\n",
    "        (\"human\", \"{input}\\nSQLQuery:\"),\n",
    "        (\"ai\",\"{query}\")\n",
    "    ]\n",
    ")"
   ]
  },
  {
   "cell_type": "code",
   "execution_count": 37,
   "metadata": {},
   "outputs": [],
   "source": [
    "from langchain_core.prompts import FewShotChatMessagePromptTemplate\n",
    "sql_few_shot_prompt = FewShotChatMessagePromptTemplate(\n",
    "    example_prompt=sql_example_prompt,\n",
    "    examples=sql_examples,\n",
    "    input_variables=[\"input\"]\n",
    ")"
   ]
  },
  {
   "cell_type": "code",
   "execution_count": 57,
   "metadata": {},
   "outputs": [],
   "source": [
    "SQL_QUERY_PROMPT=ChatPromptTemplate.from_messages(\n",
    "    [\n",
    "        (\"system\",\"\"\" You are a SQLite expert. Given an input question, first create a syntactically correct SQLite query to run, then look at the results of the query and return the answer to the input question.\n",
    "        Unless the user specifies in the question a specific number of examples to obtain, query for at most 5 results using the LIMIT clause as per SQLite. You can order the results to return the most informative data in the database.\n",
    "        Never query for all columns from a table. You must query only the columns that are needed to answer the question. Wrap each column name in double quotes (\") to denote them as delimited identifiers.\n",
    "        Pay attention to use only the column names you can see in the tables below. Be careful to not query for columns that do not exist. Also, pay attention to which column is in which table.\n",
    "        Pay attention to use date('now') function to get the current date, if the question involves \"today\".\n",
    "\n",
    "        Use the following format:\n",
    "\n",
    "        Question: Question here\n",
    "        SQLQuery: SQL Query to run\n",
    "        SQLResult: Result of the SQLQuery\n",
    "         \n",
    "        {top_k}\n",
    "\n",
    "        Only use the following tables:\n",
    "        {table_info}\"\"\"),\n",
    "        sql_few_shot_prompt,\n",
    "        (\"human\",\"{input}\")\n",
    "    ]\n",
    ")"
   ]
  },
  {
   "cell_type": "code",
   "execution_count": 58,
   "metadata": {},
   "outputs": [],
   "source": [
    "from langchain_core.prompts import PromptTemplate\n",
    "ANSWER_PROMPTS = PromptTemplate.from_template(\n",
    "     \"\"\"Given the following user question, corresponding SQL query, and SQL result, answer the user question.\n",
    "     Combine the the Question and SQL Result to generate a meaningful answer to the user.\n",
    "     The answer should be in the format of a sentence.\n",
    "     The answer should be a direct response to the user question.\n",
    "     Respond to the question as an experienced airline ground staff\n",
    "\n",
    " Question: {question}\n",
    " SQL Query: {query}\n",
    " SQL Result: {result}\n",
    " Answer: \"\"\"\n",
    " )"
   ]
  },
  {
   "cell_type": "code",
   "execution_count": 59,
   "metadata": {},
   "outputs": [
    {
     "name": "stdout",
     "output_type": "stream",
     "text": [
      "Incoming query text='SELECT AVG(passenger_count) as average_passengers FROM (\\n    SELECT COUNT(*) as passenger_count \\n    FROM passenger_details \\n    GROUP BY passenger_flight_number\\n);'\n"
     ]
    }
   ],
   "source": [
    "from langchain.chains import create_sql_query_chain\n",
    "from langchain_community.tools.sql_database.tool import QuerySQLDataBaseTool\n",
    "from langchain_core.output_parsers import StrOutputParser\n",
    "from langchain_core.runnables import RunnablePassthrough\n",
    "from operator import itemgetter\n",
    "# Create a query chain\n",
    "query_chain = create_sql_query_chain(llm, db,prompt=SQL_QUERY_PROMPT) | SQlExtractParser()\n",
    "\n",
    "# Create an execution chain\n",
    "execute_query = QuerySQLDataBaseTool(db=db)\n",
    "execute_chain = itemgetter(\"query\") | execute_query\n",
    "\n",
    "# Create an answer chain\n",
    "answer_chain = ANSWER_PROMPTS | llm | StrOutputParser()\n",
    "\n",
    "# Combine the chains\n",
    "final_chain = (\n",
    "    RunnablePassthrough()\n",
    "    .assign(query=query_chain)\n",
    "    .assign(result=execute_chain)\n",
    "    | answer_chain\n",
    ")\n",
    "\n",
    "# Invoke the chain with the user's query\n",
    "input_data = {\n",
    "    \"question\": \"On an average how many passengers are there in a flight?\",\n",
    "    \"dialect\": \"sqlite\",\n",
    "    \"top_k\":2,\n",
    "    \"table_info\": db.get_table_info(),\n",
    "}\n",
    "#answer=query_chain.invoke(input_data)\n",
    "answer = final_chain.invoke(input_data)\n"
   ]
  },
  {
   "cell_type": "code",
   "execution_count": 61,
   "metadata": {},
   "outputs": [
    {
     "data": {
      "text/plain": [
       "'On average, there are approximately 1.25 passengers per flight.'"
      ]
     },
     "execution_count": 61,
     "metadata": {},
     "output_type": "execute_result"
    }
   ],
   "source": [
    "answer"
   ]
  }
 ],
 "metadata": {
  "kernelspec": {
   "display_name": "venv",
   "language": "python",
   "name": "python3"
  },
  "language_info": {
   "codemirror_mode": {
    "name": "ipython",
    "version": 3
   },
   "file_extension": ".py",
   "mimetype": "text/x-python",
   "name": "python",
   "nbconvert_exporter": "python",
   "pygments_lexer": "ipython3",
   "version": "3.12.3"
  }
 },
 "nbformat": 4,
 "nbformat_minor": 2
}
